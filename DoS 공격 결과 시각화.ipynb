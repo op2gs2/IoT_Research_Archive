{
  "nbformat": 4,
  "nbformat_minor": 0,
  "metadata": {
    "colab": {
      "provenance": []
    },
    "kernelspec": {
      "name": "python3",
      "display_name": "Python 3"
    },
    "language_info": {
      "name": "python"
    }
  },
  "cells": [
    {
      "cell_type": "code",
      "execution_count": 2,
      "metadata": {
        "id": "qOJGN6sfAVjh"
      },
      "outputs": [],
      "source": [
        "import matplotlib.pyplot as plt\n",
        "\n",
        "plt.rc('font', family='NanumBarunGothic') # plt 한글 출력 오류 해결"
      ]
    },
    {
      "cell_type": "code",
      "source": [
        "'''공격 데이터 저장'''\n",
        "\n",
        "# X축 레이블 저장\n",
        "x_label = ['fast','faster','flood']\n",
        "\n",
        "# 유선 공격 데이터 저장\n",
        "wired_udp_PD = [600, 2, 1]\n",
        "wired_23_PD = [600, 2, 1]\n",
        "wired_udp_SYN = [600, 2, 1]\n",
        "wired_23_SYN = [600, 2, 1]\n",
        "\n",
        "# 무선 공격 데이터 저장\n",
        "wireless_554_PD = [600, 50, 130]\n",
        "wireless_80_PD = [600, 60, 65]\n",
        "wireless_554_SYN = [300, 10, 10]\n",
        "wireless_80_SYN = [300, 40, 10]"
      ],
      "metadata": {
        "id": "zH6pLpmqAaxe"
      },
      "execution_count": 6,
      "outputs": []
    },
    {
      "cell_type": "code",
      "source": [
        "'''그래프로 출력하기'''\n",
        "\n",
        "plt.subplot(2,2,1)\n",
        "# 유선환경의 Ping of Death 공격 결과\n",
        "plt.scatter(x_label,wired_udp_PD, label = \"UDP\")\n",
        "plt.scatter(x_label,wired_23_PD, label = \"23\")\n",
        "plt.legend()\n",
        "plt.title('유선환경의 Ping of Death 공격 결과')\n",
        "\n",
        "plt.subplot(2,2,2)\n",
        "# 유선환경의 SYN Flooding 공격 결과\n",
        "plt.scatter(x_label,wired_udp_SYN, label = \"UDP\")\n",
        "plt.scatter(x_label,wired_23_SYN, label = \"23\")\n",
        "plt.legend()\n",
        "plt.title('유선환경의 SYN Flooding 공격 결과')\n",
        "\n",
        "plt.subplot(2,2,3)\n",
        "# 무선환경의 Ping of Death 공격 결과\n",
        "plt.scatter(x_label,wireless_554_PD, label = \"554\")\n",
        "plt.scatter(x_label,wireless_80_PD, label = \"80\")\n",
        "plt.legend()\n",
        "plt.title('무선환경의 Ping of Death 공격 결과')\n",
        "\n",
        "plt.subplot(2,2,4)\n",
        "# 무선환경의 SYN Flooding 공격 결과\n",
        "plt.scatter(x_label,wireless_554_SYN, label = \"554\")\n",
        "plt.scatter(x_label,wireless_80_SYN, label = \"23\")\n",
        "plt.legend()\n",
        "plt.title('무선환경의 SYN Flooding 공격 결과')\n",
        "\n",
        "plt.tight_layout(h_pad=2, w_pad=2)\n",
        "plt.legend()\n",
        "plt.show()"
      ],
      "metadata": {
        "colab": {
          "base_uri": "https://localhost:8080/",
          "height": 297
        },
        "id": "z329RAxvBYfD",
        "outputId": "6f239564-4320-49d9-ec84-b57fbd32b9c6"
      },
      "execution_count": 23,
      "outputs": [
        {
          "output_type": "display_data",
          "data": {
            "text/plain": [
              "<Figure size 432x288 with 4 Axes>"
            ],
            "image/png": "[encoded data removed]"
          },
          "metadata": {
            "needs_background": "light"
          }
        }
      ]
    },
    {
      "cell_type": "code",
      "source": [],
      "metadata": {
        "id": "PeN2ruQVEmOR"
      },
      "execution_count": null,
      "outputs": []
    }
  ]
}