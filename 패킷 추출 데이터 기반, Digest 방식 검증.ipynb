{
  "cells": [
    {
      "cell_type": "code",
      "execution_count": null,
      "id": "13e71677",
      "metadata": {
        "id": "13e71677"
      },
      "outputs": [],
      "source": [
        "import os\n",
        "import re\n",
        "import sys\n",
        "import codecs\n",
        "import hashlib\n",
        "from scapy.all import *"
      ]
    },
    {
      "cell_type": "code",
      "execution_count": null,
      "id": "ea612862",
      "metadata": {
        "id": "ea612862"
      },
      "outputs": [],
      "source": [
        "password = # RTSP 접속 비밀번호를 기입합니다. # Brute-Forcing 공격을 수행하면, 비밀번호를 찾는 코드로 변환 가능\n",
        "\n",
        "# .pcapng 파일의 경로를 설정합니다.\n",
        "pcap_file_dir = # 경로를 삽입합니다.\n",
        "\n",
        "# .pcapng 파일의 이름을 찾습니다.\n",
        "pcap_file_names = os.listdir(pcap_file_dir)"
      ]
    },
    {
      "cell_type": "code",
      "execution_count": null,
      "id": "d2b7864c",
      "metadata": {
        "id": "d2b7864c"
      },
      "outputs": [],
      "source": [
        "# pcap 파일을 읽어들입니다.\n",
        "pcap_file_data = \"\"\n",
        "with codecs.open(os.path.join(pcap_file_dir,pcap_file_names[0]), 'r', encoding='utf-8', errors='ignore') as f:\n",
        "    pcap_file_data = f.read()"
      ]
    },
    {
      "cell_type": "code",
      "execution_count": null,
      "id": "10d103d4",
      "metadata": {
        "id": "10d103d4"
      },
      "outputs": [],
      "source": [
        "# 찾아야 하는 바이트 열에 대한 패턴을 입력합니다.\n",
        "method_pattern = \"(SETUP|DESCRIBE)\"\n",
        "username_pattern = \"(username=\\\"([a-zA-Z0-9]+))\"\n",
        "realm_pattern = \"(realm=\\\"([a-zA-Z0-9]+))\"\n",
        "nonce_pattern = \"(nonce=\\\"([a-zA-Z0-9]+))\"\n",
        "uri_pattern = \"(uri=\\\"(.+)\\\"\\,)\"\n",
        "response_pattern = \"(response=\\\"([a-zA-Z0-9]+))\"\n",
        "\n",
        "print(\"-\"*90)\n",
        "print(\"<<Digest 방식 재현을 위한 데이터 준비 완료.>>\")\n",
        "# 바이트열에서 찾아야 하는 값을 찾습니다.\n",
        "method = re.search(method_pattern, pcap_file_data)\n",
        "if method:\n",
        "    method = method.group(1)\n",
        "else:\n",
        "    print(\"RTSP 연결 과정이 설정되지 않았습니다.\")\n",
        "    sys.exit(1)\n",
        "print(\"method: \",method)\n",
        "\n",
        "username = re.search(username_pattern, pcap_file_data)\n",
        "if username:\n",
        "    username = username.group(2)\n",
        "print(\"username: \",username)\n",
        "\n",
        "realm = re.search(realm_pattern, pcap_file_data)\n",
        "if realm:\n",
        "    realm = realm.group(2)\n",
        "print(\"realm: \",realm)\n",
        "\n",
        "nonce = re.search(nonce_pattern, pcap_file_data)\n",
        "if nonce:\n",
        "    nonce = nonce.group(2)\n",
        "print(\"nonce: \",nonce)\n",
        "\n",
        "uri = re.search(uri_pattern, pcap_file_data)\n",
        "if uri:\n",
        "    uri = uri.group(2)\n",
        "print(\"uri: \",uri)\n",
        "\n",
        "response = re.search(response_pattern, pcap_file_data)\n",
        "if response:\n",
        "    response = response.group(2)\n",
        "print(\"response: \",response)"
      ]
    },
    {
      "cell_type": "code",
      "execution_count": null,
      "id": "239e85e2",
      "metadata": {
        "id": "239e85e2",
        "outputId": "2ba0bec6-680a-4a54-98af-8971795ba40c"
      },
      "outputs": [
        {
          "name": "stdout",
          "output_type": "stream",
          "text": [
            "Responce 일치!!\n"
          ]
        }
      ],
      "source": [
        "# 첫번째 단계: md5(username:realm:password)\n",
        "input_str = username+\":\"+realm+\":\"+password\n",
        "input_str = input_str.encode('utf-8')\n",
        "\n",
        "md5_1 = hashlib.md5()\n",
        "md5_1.update(input_str)\n",
        "md5_1 = md5_1.hexdigest()\n",
        "\n",
        "# 두번째 단계: md5(DESCRIBE:rtsp://ip/urn)\n",
        "input_str = method+\":\"+uri\n",
        "input_str = input_str.encode('utf-8')\n",
        "\n",
        "md5_2 = hashlib.md5()\n",
        "md5_2.update(input_str)\n",
        "md5_2 = md5_2.hexdigest()\n",
        "\n",
        "# 세번째 단계: md5(hash1:nonce:hash2)\n",
        "input_str = md5_1+\":\"+nonce+\":\"+md5_2\n",
        "input_str = input_str.encode('utf-8')\n",
        "\n",
        "md5_3 = hashlib.md5()\n",
        "md5_3.update(input_str)\n",
        "md5_3 = md5_3.hexdigest()\n",
        "\n",
        "if md5_3 == response: \n",
        "    print(\"Responce 일치!!\")\n",
        "else:\n",
        "    print(\"Responce 불 일치!!\")"
      ]
    },
    {
      "cell_type": "markdown",
      "id": "738da393",
      "metadata": {
        "id": "738da393"
      },
      "source": [
        "## 참고자료\n",
        "- [RTSP 인증 방식](https://m.blog.naver.com/PostView.naver?isHttpsRedirect=true&blogId=bcknightt&logNo=220006031922)\n",
        "- [Digest 방식](https://en.wikipedia.org/wiki/Digest_access_authentication)\n",
        "\n",
        "## 제작정보\n",
        "- 제작자: 김동영 (klgh1256@s.hallym.ac.kr)\n",
        "- 제작일자: 2022년 08월 22일"
      ]
    }
  ],
  "metadata": {
    "kernelspec": {
      "display_name": "Python 3 (ipykernel)",
      "language": "python",
      "name": "python3"
    },
    "language_info": {
      "codemirror_mode": {
        "name": "ipython",
        "version": 3
      },
      "file_extension": ".py",
      "mimetype": "text/x-python",
      "name": "python",
      "nbconvert_exporter": "python",
      "pygments_lexer": "ipython3",
      "version": "3.9.12"
    },
    "colab": {
      "provenance": []
    }
  },
  "nbformat": 4,
  "nbformat_minor": 5
}